{
 "cells": [
  {
   "cell_type": "markdown",
   "metadata": {},
   "source": [
    "# Continuous Control\n",
    "\n",
    "---\n",
    "\n",
    "In this notebook, you will learn how to use the Unity ML-Agents environment for the second project of the [Deep Reinforcement Learning Nanodegree](https://www.udacity.com/course/deep-reinforcement-learning-nanodegree--nd893) program.\n",
    "\n",
    "### 1. Start the Environment\n",
    "\n",
    "We begin by importing the necessary packages.  If the code cell below returns an error, please revisit the project instructions to double-check that you have installed [Unity ML-Agents](https://github.com/Unity-Technologies/ml-agents/blob/master/docs/Installation.md) and [NumPy](http://www.numpy.org/)."
   ]
  },
  {
   "cell_type": "code",
   "execution_count": 1,
   "metadata": {},
   "outputs": [],
   "source": [
    "import matplotlib.pyplot as plt\n",
    "%matplotlib inline\n",
    "\n",
    "import numpy as np\n",
    "import random\n",
    "import time\n",
    "import torch\n",
    "\n",
    "from collections import deque\n",
    "from ddpg_agent import Agent\n",
    "from unityagents import UnityEnvironment"
   ]
  },
  {
   "cell_type": "markdown",
   "metadata": {},
   "source": [
    "Next, we will start the environment!  **_Before running the code cell below_**, change the `file_name` parameter to match the location of the Unity environment that you downloaded.\n",
    "\n",
    "- **Mac**: `\"path/to/Reacher.app\"`\n",
    "- **Windows** (x86): `\"path/to/Reacher_Windows_x86/Reacher.exe\"`\n",
    "- **Windows** (x86_64): `\"path/to/Reacher_Windows_x86_64/Reacher.exe\"`\n",
    "- **Linux** (x86): `\"path/to/Reacher_Linux/Reacher.x86\"`\n",
    "- **Linux** (x86_64): `\"path/to/Reacher_Linux/Reacher.x86_64\"`\n",
    "- **Linux** (x86, headless): `\"path/to/Reacher_Linux_NoVis/Reacher.x86\"`\n",
    "- **Linux** (x86_64, headless): `\"path/to/Reacher_Linux_NoVis/Reacher.x86_64\"`\n",
    "\n",
    "For instance, if you are using a Mac, then you downloaded `Reacher.app`.  If this file is in the same folder as the notebook, then the line below should appear as follows:\n",
    "```\n",
    "env = UnityEnvironment(file_name=\"Reacher.app\")\n",
    "```"
   ]
  },
  {
   "cell_type": "code",
   "execution_count": 2,
   "metadata": {},
   "outputs": [
    {
     "name": "stderr",
     "output_type": "stream",
     "text": [
      "INFO:unityagents:\n",
      "'Academy' started successfully!\n",
      "Unity Academy name: Academy\n",
      "        Number of Brains: 1\n",
      "        Number of External Brains : 1\n",
      "        Lesson number : 0\n",
      "        Reset Parameters :\n",
      "\t\tgoal_speed -> 1.0\n",
      "\t\tgoal_size -> 5.0\n",
      "Unity brain name: ReacherBrain\n",
      "        Number of Visual Observations (per agent): 0\n",
      "        Vector Observation space type: continuous\n",
      "        Vector Observation space size (per agent): 33\n",
      "        Number of stacked Vector Observation: 1\n",
      "        Vector Action space type: continuous\n",
      "        Vector Action space size (per agent): 4\n",
      "        Vector Action descriptions: , , , \n"
     ]
    }
   ],
   "source": [
    "# In Udacity Workspace\n",
    "# select this option to load version 2 (with 20 agents) of the environment\n",
    "# env = UnityEnvironment(file_name='/data/Reacher_Linux_NoVis/Reacher.x86_64')\n",
    "\n",
    "# In local Ubuntu 18.04.2 LTS setup\n",
    "env = UnityEnvironment(file_name='/home/m2keyofz/Downloads/Reacher_Linux_20/Reacher.x86_64')"
   ]
  },
  {
   "cell_type": "markdown",
   "metadata": {},
   "source": [
    "Environments contain **_brains_** which are responsible for deciding the actions of their associated agents. Here we check for the first brain available, and set it as the default brain we will be controlling from Python."
   ]
  },
  {
   "cell_type": "code",
   "execution_count": 3,
   "metadata": {},
   "outputs": [],
   "source": [
    "# get the default brain\n",
    "brain_name = env.brain_names[0]\n",
    "brain = env.brains[brain_name]"
   ]
  },
  {
   "cell_type": "markdown",
   "metadata": {},
   "source": [
    "### 2. Examine the State and Action Spaces\n",
    "\n",
    "In this environment, a double-jointed arm can move to target locations. A reward of `+0.1` is provided for each step that the agent's hand is in the goal location. Thus, the goal of your agent is to maintain its position at the target location for as many time steps as possible.\n",
    "\n",
    "The observation space consists of `33` variables corresponding to position, rotation, velocity, and angular velocities of the arm.  Each action is a vector with four numbers, corresponding to torque applicable to two joints.  Every entry in the action vector must be a number between `-1` and `1`.\n",
    "\n",
    "Run the code cell below to print some information about the environment."
   ]
  },
  {
   "cell_type": "code",
   "execution_count": 4,
   "metadata": {},
   "outputs": [
    {
     "name": "stdout",
     "output_type": "stream",
     "text": [
      "Number of agents: 20\n",
      "Size of each action: 4\n",
      "There are 20 agents. Each observes a state with length: 33\n"
     ]
    }
   ],
   "source": [
    "# reset the environment\n",
    "env_info = env.reset(train_mode=True)[brain_name]\n",
    "\n",
    "# number of agents\n",
    "num_agents = len(env_info.agents)\n",
    "print('Number of agents:', num_agents)\n",
    "\n",
    "# size of each action\n",
    "action_size = brain.vector_action_space_size\n",
    "print('Size of each action:', action_size)\n",
    "\n",
    "# examine the state space \n",
    "states = env_info.vector_observations\n",
    "state_size = states.shape[1]\n",
    "print('There are {} agents. Each observes a state with length: {}'.format(states.shape[0], state_size))\n",
    "# print('The state for the first agent looks like:', states[0])"
   ]
  },
  {
   "cell_type": "markdown",
   "metadata": {},
   "source": [
    "### 3. Take Random Actions in the Environment\n",
    "\n",
    "In the next code cell, you will learn how to use the Python API to control the agent and receive feedback from the environment.\n",
    "\n",
    "Once this cell is executed, you will watch the agent's performance, if it selects an action at random with each time step.  A window should pop up that allows you to observe the agent, as it moves through the environment.  \n",
    "\n",
    "Of course, as part of the project, you'll have to change the code so that the agent is able to use its experience to gradually choose better actions when interacting with the environment!"
   ]
  },
  {
   "cell_type": "code",
   "execution_count": 5,
   "metadata": {},
   "outputs": [],
   "source": [
    "start = time.time()"
   ]
  },
  {
   "cell_type": "code",
   "execution_count": 6,
   "metadata": {},
   "outputs": [
    {
     "name": "stdout",
     "output_type": "stream",
     "text": [
      "Total score (averaged over agents) this episode: 0.18299999590963126\n"
     ]
    }
   ],
   "source": [
    "env_info = env.reset(train_mode=False)[brain_name]     # reset the environment    \n",
    "states = env_info.vector_observations                  # get the current state (for each agent)\n",
    "scores = np.zeros(num_agents)                          # initialize the score (for each agent)\n",
    "while True:\n",
    "    actions = np.random.randn(num_agents, action_size) # select an action (for each agent)\n",
    "    actions = np.clip(actions, -1, 1)                  # all actions between -1 and 1\n",
    "    env_info = env.step(actions)[brain_name]           # send all actions to tne environment\n",
    "    next_states = env_info.vector_observations         # get next state (for each agent)\n",
    "    rewards = env_info.rewards                         # get reward (for each agent)\n",
    "    dones = env_info.local_done                        # see if episode finished\n",
    "    scores += env_info.rewards                         # update the score (for each agent)\n",
    "    states = next_states                               # roll over states to next time step\n",
    "    if np.any(dones):                                  # exit loop if episode finished\n",
    "        break\n",
    "\n",
    "print('Total score (averaged over agents) this episode: {}'.format(np.mean(scores)))"
   ]
  },
  {
   "cell_type": "code",
   "execution_count": 7,
   "metadata": {},
   "outputs": [
    {
     "name": "stdout",
     "output_type": "stream",
     "text": [
      "\n",
      "Elapsed Time: 1.05 mins.\n"
     ]
    }
   ],
   "source": [
    "end = time.time()\n",
    "elapsed = (end - start) / 60.0 # in minutes\n",
    "print(\"\\nElapsed Time: {0:3.2f} mins.\".format(elapsed))"
   ]
  },
  {
   "cell_type": "markdown",
   "metadata": {},
   "source": [
    "### 4. Train agent to solve the environment!\n",
    "\n",
    "Now it's your turn to train your own agent to solve the environment!  When training the environment, set `train_mode=True`, so that the line for resetting the environment looks like the following:\n",
    "```python\n",
    "env_info = env.reset(train_mode=True)[brain_name]\n",
    "```"
   ]
  },
  {
   "cell_type": "code",
   "execution_count": 8,
   "metadata": {},
   "outputs": [],
   "source": [
    "# DDPG function\n",
    "\n",
    "def ddpg(n_episodes=1000, max_t=1000, print_every=1,\n",
    "         actor_path ='weights/actor_r2_ckpt.pth', \n",
    "         critic_path='weights/critic_r2_ckpt.pth'):\n",
    "    \"\"\"Deep Deterministic Policy Gradient (DDPG)\n",
    "    \n",
    "    Params\n",
    "    ======\n",
    "        n_episodes  (int)   : maximum number of training episodes\n",
    "        max_t       (int)   : maximum number of timesteps per episode\n",
    "        print_every (int)   : interval to display results\n",
    "        actor_path  (str)   : file_name to store actor network weights\n",
    "        critic_path (str)   : file_name to store critic network weights\n",
    "\n",
    "    \"\"\"\n",
    "    mean_scores = []                               # list of mean scores from each episode\n",
    "    min_scores  = []                               # list of lowest scores from each episode\n",
    "    max_scores  = []                               # list of highest scores from each episode\n",
    "    moving_avgs = []                               # list of moving averages\n",
    "    best_score  = -np.inf\n",
    "    scores_window = deque(maxlen=100)              # mean scores from most recent 100 episodes\n",
    "    \n",
    "    for i_episode in range(1, n_episodes+1):\n",
    "        env_info = env.reset(train_mode=True)[brain_name]       # reset environment\n",
    "        states = env_info.vector_observations                   # get current state for each agent      \n",
    "        scores = np.zeros(num_agents)                           # initialize score for each agent\n",
    "        agent.reset()\n",
    "        start_time = time.time()\n",
    "        for t in range(max_t):\n",
    "            actions = agent.act(states, add_noise=True)         # select an action\n",
    "            env_info = env.step(actions)[brain_name]            # send actions to environment\n",
    "            next_states = env_info.vector_observations          # get next state\n",
    "            rewards = env_info.rewards                          # get reward\n",
    "            dones = env_info.local_done                         # see if episode has finished\n",
    "            # save experience to replay buffer, perform learning step at defined interval\n",
    "            for state, action, reward, next_state, done in zip(states, actions, rewards, next_states, dones):\n",
    "                agent.step(state, action, reward, next_state, done, t)             \n",
    "            states = next_states\n",
    "            scores += rewards        \n",
    "            if np.any(dones):                                   # exit loop when episode ends\n",
    "                break\n",
    "\n",
    "        duration = time.time() - start_time\n",
    "        min_scores.append(np.min(scores))             # save lowest score for a single agent\n",
    "        max_scores.append(np.max(scores))             # save highest score for a single agent        \n",
    "        mean_scores.append(np.mean(scores))           # save mean score for the episode\n",
    "        scores_window.append(mean_scores[-1])         # save mean score to window\n",
    "        moving_avgs.append(np.mean(scores_window))    # save moving average\n",
    "                \n",
    "        if i_episode % print_every == 0:\n",
    "            print('\\rEpisode {} ({}s)\\tMin: {:.1f}\\tMax: {:.1f}\\tMean: {:.1f}\\tMoving Avg: {:.1f}'.format(\\\n",
    "                  i_episode, round(duration), min_scores[-1], max_scores[-1], mean_scores[-1], moving_avgs[-1]))\n",
    "        \n",
    "        if mean_scores[-1] > best_score:\n",
    "            torch.save(agent.actor_local.state_dict(),  actor_path)\n",
    "            torch.save(agent.critic_local.state_dict(), critic_path)\n",
    "                  \n",
    "        if moving_avgs[-1] >= 30.01 and i_episode >= 100:\n",
    "            print('\\nEnvironment solved in {:d} episodes!\\tAverage Score: {:.2f}'.format(i_episode-100, moving_avgs[-1]))            \n",
    "            torch.save(agent.actor_local.state_dict(),  actor_path)\n",
    "            torch.save(agent.critic_local.state_dict(), critic_path)  \n",
    "            break\n",
    "            \n",
    "    return mean_scores, moving_avgs"
   ]
  },
  {
   "cell_type": "code",
   "execution_count": 9,
   "metadata": {},
   "outputs": [],
   "source": [
    "start = time.time()"
   ]
  },
  {
   "cell_type": "code",
   "execution_count": 10,
   "metadata": {},
   "outputs": [
    {
     "name": "stdout",
     "output_type": "stream",
     "text": [
      "Episode 1 (56s)\tMin: 0.1\tMax: 1.6\tMean: 0.8\tMoving Avg: 0.8\n",
      "Episode 2 (57s)\tMin: 0.4\tMax: 3.9\tMean: 1.6\tMoving Avg: 1.2\n",
      "Episode 3 (58s)\tMin: 0.9\tMax: 4.0\tMean: 2.1\tMoving Avg: 1.5\n",
      "Episode 4 (59s)\tMin: 1.5\tMax: 5.7\tMean: 3.5\tMoving Avg: 2.0\n",
      "Episode 5 (59s)\tMin: 1.4\tMax: 5.8\tMean: 3.0\tMoving Avg: 2.2\n",
      "Episode 6 (61s)\tMin: 1.4\tMax: 4.7\tMean: 3.0\tMoving Avg: 2.3\n",
      "Episode 7 (60s)\tMin: 1.7\tMax: 4.8\tMean: 3.2\tMoving Avg: 2.4\n",
      "Episode 8 (62s)\tMin: 2.1\tMax: 5.5\tMean: 3.9\tMoving Avg: 2.6\n",
      "Episode 9 (63s)\tMin: 3.2\tMax: 10.3\tMean: 5.4\tMoving Avg: 2.9\n",
      "Episode 10 (65s)\tMin: 3.5\tMax: 11.2\tMean: 6.4\tMoving Avg: 3.3\n",
      "Episode 11 (65s)\tMin: 1.3\tMax: 9.5\tMean: 6.2\tMoving Avg: 3.5\n",
      "Episode 12 (66s)\tMin: 4.3\tMax: 10.8\tMean: 7.1\tMoving Avg: 3.8\n",
      "Episode 13 (68s)\tMin: 4.0\tMax: 13.4\tMean: 8.1\tMoving Avg: 4.2\n",
      "Episode 14 (70s)\tMin: 5.7\tMax: 14.9\tMean: 9.7\tMoving Avg: 4.6\n",
      "Episode 15 (71s)\tMin: 3.1\tMax: 13.4\tMean: 9.3\tMoving Avg: 4.9\n",
      "Episode 16 (72s)\tMin: 7.2\tMax: 14.1\tMean: 10.0\tMoving Avg: 5.2\n",
      "Episode 17 (73s)\tMin: 7.0\tMax: 13.4\tMean: 10.0\tMoving Avg: 5.5\n",
      "Episode 18 (77s)\tMin: 7.5\tMax: 16.7\tMean: 10.5\tMoving Avg: 5.8\n",
      "Episode 19 (76s)\tMin: 8.0\tMax: 17.2\tMean: 11.1\tMoving Avg: 6.0\n",
      "Episode 20 (77s)\tMin: 7.5\tMax: 27.5\tMean: 14.6\tMoving Avg: 6.5\n",
      "Episode 21 (79s)\tMin: 4.1\tMax: 18.8\tMean: 13.1\tMoving Avg: 6.8\n",
      "Episode 22 (85s)\tMin: 11.3\tMax: 24.7\tMean: 16.7\tMoving Avg: 7.2\n",
      "Episode 23 (86s)\tMin: 12.2\tMax: 20.7\tMean: 16.6\tMoving Avg: 7.6\n",
      "Episode 24 (81s)\tMin: 11.3\tMax: 19.4\tMean: 16.5\tMoving Avg: 8.0\n",
      "Episode 25 (84s)\tMin: 8.9\tMax: 24.2\tMean: 16.0\tMoving Avg: 8.3\n",
      "Episode 26 (88s)\tMin: 11.8\tMax: 31.5\tMean: 20.5\tMoving Avg: 8.8\n",
      "Episode 27 (88s)\tMin: 13.3\tMax: 23.3\tMean: 19.0\tMoving Avg: 9.2\n",
      "Episode 28 (89s)\tMin: 15.1\tMax: 24.8\tMean: 20.3\tMoving Avg: 9.6\n",
      "Episode 29 (92s)\tMin: 12.4\tMax: 32.2\tMean: 20.2\tMoving Avg: 9.9\n",
      "Episode 30 (91s)\tMin: 12.5\tMax: 32.3\tMean: 22.1\tMoving Avg: 10.4\n",
      "Episode 31 (91s)\tMin: 12.1\tMax: 32.7\tMean: 22.4\tMoving Avg: 10.7\n",
      "Episode 32 (93s)\tMin: 14.0\tMax: 30.8\tMean: 24.9\tMoving Avg: 11.2\n",
      "Episode 33 (93s)\tMin: 13.9\tMax: 33.6\tMean: 23.3\tMoving Avg: 11.5\n",
      "Episode 34 (96s)\tMin: 13.9\tMax: 33.5\tMean: 23.7\tMoving Avg: 11.9\n",
      "Episode 35 (96s)\tMin: 12.4\tMax: 31.5\tMean: 24.2\tMoving Avg: 12.3\n",
      "Episode 36 (98s)\tMin: 16.2\tMax: 32.4\tMean: 25.5\tMoving Avg: 12.6\n",
      "Episode 37 (97s)\tMin: 17.1\tMax: 32.8\tMean: 26.1\tMoving Avg: 13.0\n",
      "Episode 38 (96s)\tMin: 16.7\tMax: 33.4\tMean: 25.3\tMoving Avg: 13.3\n",
      "Episode 39 (97s)\tMin: 17.6\tMax: 34.8\tMean: 28.7\tMoving Avg: 13.7\n",
      "Episode 40 (105s)\tMin: 20.9\tMax: 38.7\tMean: 30.6\tMoving Avg: 14.1\n",
      "Episode 41 (105s)\tMin: 17.6\tMax: 37.2\tMean: 29.3\tMoving Avg: 14.5\n",
      "Episode 42 (107s)\tMin: 28.1\tMax: 38.7\tMean: 33.2\tMoving Avg: 14.9\n",
      "Episode 43 (133s)\tMin: 21.4\tMax: 36.7\tMean: 32.0\tMoving Avg: 15.3\n",
      "Episode 44 (121s)\tMin: 19.6\tMax: 39.0\tMean: 34.0\tMoving Avg: 15.8\n",
      "Episode 45 (117s)\tMin: 26.8\tMax: 39.4\tMean: 34.6\tMoving Avg: 16.2\n",
      "Episode 46 (111s)\tMin: 15.6\tMax: 39.5\tMean: 34.5\tMoving Avg: 16.6\n",
      "Episode 47 (115s)\tMin: 28.3\tMax: 37.5\tMean: 34.5\tMoving Avg: 17.0\n",
      "Episode 48 (115s)\tMin: 26.9\tMax: 36.5\tMean: 34.0\tMoving Avg: 17.3\n",
      "Episode 49 (117s)\tMin: 29.4\tMax: 39.5\tMean: 36.6\tMoving Avg: 17.7\n",
      "Episode 50 (118s)\tMin: 35.2\tMax: 39.6\tMean: 37.6\tMoving Avg: 18.1\n",
      "Episode 51 (118s)\tMin: 36.7\tMax: 39.4\tMean: 38.7\tMoving Avg: 18.5\n",
      "Episode 52 (120s)\tMin: 37.5\tMax: 39.5\tMean: 38.7\tMoving Avg: 18.9\n",
      "Episode 53 (119s)\tMin: 34.4\tMax: 39.6\tMean: 38.3\tMoving Avg: 19.3\n",
      "Episode 54 (118s)\tMin: 32.9\tMax: 39.6\tMean: 38.5\tMoving Avg: 19.6\n",
      "Episode 55 (117s)\tMin: 37.8\tMax: 39.6\tMean: 39.1\tMoving Avg: 20.0\n",
      "Episode 56 (113s)\tMin: 35.8\tMax: 39.5\tMean: 38.7\tMoving Avg: 20.3\n",
      "Episode 57 (109s)\tMin: 34.8\tMax: 39.5\tMean: 38.6\tMoving Avg: 20.6\n",
      "Episode 58 (109s)\tMin: 37.1\tMax: 39.6\tMean: 38.8\tMoving Avg: 20.9\n",
      "Episode 59 (109s)\tMin: 34.5\tMax: 39.6\tMean: 38.5\tMoving Avg: 21.2\n",
      "Episode 60 (109s)\tMin: 36.9\tMax: 39.6\tMean: 38.6\tMoving Avg: 21.5\n",
      "Episode 61 (109s)\tMin: 36.9\tMax: 39.6\tMean: 39.1\tMoving Avg: 21.8\n",
      "Episode 62 (109s)\tMin: 36.4\tMax: 39.6\tMean: 39.0\tMoving Avg: 22.1\n",
      "Episode 63 (108s)\tMin: 34.2\tMax: 39.5\tMean: 38.9\tMoving Avg: 22.4\n",
      "Episode 64 (109s)\tMin: 37.1\tMax: 39.6\tMean: 39.0\tMoving Avg: 22.6\n",
      "Episode 65 (109s)\tMin: 37.8\tMax: 39.6\tMean: 39.1\tMoving Avg: 22.9\n",
      "Episode 66 (110s)\tMin: 37.1\tMax: 39.6\tMean: 39.0\tMoving Avg: 23.1\n",
      "Episode 67 (109s)\tMin: 30.0\tMax: 39.5\tMean: 37.2\tMoving Avg: 23.3\n",
      "Episode 68 (109s)\tMin: 34.5\tMax: 39.5\tMean: 38.8\tMoving Avg: 23.6\n",
      "Episode 69 (109s)\tMin: 37.0\tMax: 39.6\tMean: 38.9\tMoving Avg: 23.8\n",
      "Episode 70 (108s)\tMin: 38.7\tMax: 39.6\tMean: 39.3\tMoving Avg: 24.0\n",
      "Episode 71 (109s)\tMin: 38.6\tMax: 39.6\tMean: 39.3\tMoving Avg: 24.2\n",
      "Episode 72 (109s)\tMin: 38.0\tMax: 39.6\tMean: 38.9\tMoving Avg: 24.4\n",
      "Episode 73 (109s)\tMin: 37.4\tMax: 39.6\tMean: 38.8\tMoving Avg: 24.6\n",
      "Episode 74 (109s)\tMin: 34.3\tMax: 39.6\tMean: 37.8\tMoving Avg: 24.8\n",
      "Episode 75 (109s)\tMin: 36.1\tMax: 39.6\tMean: 38.6\tMoving Avg: 25.0\n",
      "Episode 76 (109s)\tMin: 36.2\tMax: 39.6\tMean: 39.0\tMoving Avg: 25.2\n",
      "Episode 77 (109s)\tMin: 37.4\tMax: 39.6\tMean: 39.0\tMoving Avg: 25.3\n",
      "Episode 78 (109s)\tMin: 36.6\tMax: 39.6\tMean: 38.3\tMoving Avg: 25.5\n",
      "Episode 79 (120s)\tMin: 37.9\tMax: 39.6\tMean: 39.1\tMoving Avg: 25.7\n",
      "Episode 80 (116s)\tMin: 37.9\tMax: 39.6\tMean: 39.4\tMoving Avg: 25.9\n",
      "Episode 81 (114s)\tMin: 32.0\tMax: 39.6\tMean: 38.8\tMoving Avg: 26.0\n",
      "Episode 82 (114s)\tMin: 35.5\tMax: 39.5\tMean: 38.9\tMoving Avg: 26.2\n",
      "Episode 83 (113s)\tMin: 36.5\tMax: 39.5\tMean: 38.4\tMoving Avg: 26.3\n",
      "Episode 84 (115s)\tMin: 26.6\tMax: 39.2\tMean: 36.1\tMoving Avg: 26.4\n",
      "Episode 85 (112s)\tMin: 36.1\tMax: 39.7\tMean: 38.6\tMoving Avg: 26.6\n",
      "Episode 86 (109s)\tMin: 37.5\tMax: 39.7\tMean: 39.2\tMoving Avg: 26.7\n",
      "Episode 87 (109s)\tMin: 37.3\tMax: 39.7\tMean: 39.3\tMoving Avg: 26.9\n",
      "Episode 88 (109s)\tMin: 37.2\tMax: 39.5\tMean: 38.9\tMoving Avg: 27.0\n",
      "Episode 89 (109s)\tMin: 36.3\tMax: 39.6\tMean: 38.8\tMoving Avg: 27.1\n",
      "Episode 90 (109s)\tMin: 34.4\tMax: 39.0\tMean: 37.2\tMoving Avg: 27.3\n",
      "Episode 91 (109s)\tMin: 34.3\tMax: 39.6\tMean: 38.3\tMoving Avg: 27.4\n",
      "Episode 92 (123s)\tMin: 31.9\tMax: 39.5\tMean: 37.4\tMoving Avg: 27.5\n",
      "Episode 93 (114s)\tMin: 35.9\tMax: 39.6\tMean: 38.4\tMoving Avg: 27.6\n",
      "Episode 94 (113s)\tMin: 35.8\tMax: 39.5\tMean: 38.4\tMoving Avg: 27.7\n",
      "Episode 95 (117s)\tMin: 35.8\tMax: 39.5\tMean: 38.4\tMoving Avg: 27.8\n",
      "Episode 96 (118s)\tMin: 36.0\tMax: 39.6\tMean: 38.4\tMoving Avg: 27.9\n",
      "Episode 97 (115s)\tMin: 35.9\tMax: 39.2\tMean: 38.0\tMoving Avg: 28.0\n",
      "Episode 98 (116s)\tMin: 36.2\tMax: 39.6\tMean: 38.1\tMoving Avg: 28.1\n",
      "Episode 99 (116s)\tMin: 36.4\tMax: 39.5\tMean: 38.5\tMoving Avg: 28.2\n",
      "Episode 100 (117s)\tMin: 33.7\tMax: 39.4\tMean: 37.7\tMoving Avg: 28.3\n",
      "Episode 101 (109s)\tMin: 37.3\tMax: 39.6\tMean: 38.9\tMoving Avg: 28.7\n",
      "Episode 102 (114s)\tMin: 36.1\tMax: 39.7\tMean: 38.3\tMoving Avg: 29.1\n",
      "Episode 103 (115s)\tMin: 31.7\tMax: 39.6\tMean: 37.8\tMoving Avg: 29.4\n",
      "Episode 104 (116s)\tMin: 38.3\tMax: 39.7\tMean: 39.2\tMoving Avg: 29.8\n",
      "Episode 105 (115s)\tMin: 35.0\tMax: 39.7\tMean: 38.8\tMoving Avg: 30.2\n",
      "\n",
      "Environment solved in 5 episodes!\tAverage Score: 30.16\n"
     ]
    }
   ],
   "source": [
    "# run the training loop\n",
    "agent = Agent(state_size=state_size, action_size=action_size, random_seed=1)\n",
    "scores, avgs = ddpg()"
   ]
  },
  {
   "cell_type": "code",
   "execution_count": 11,
   "metadata": {},
   "outputs": [
    {
     "name": "stdout",
     "output_type": "stream",
     "text": [
      "\n",
      "Elapsed Time: 174.65 mins.\n"
     ]
    }
   ],
   "source": [
    "end = time.time()\n",
    "elapsed = (end - start) / 60.0 # in minutes\n",
    "print(\"\\nElapsed Time: {0:3.2f} mins.\".format(elapsed))"
   ]
  },
  {
   "cell_type": "code",
   "execution_count": 12,
   "metadata": {},
   "outputs": [
    {
     "data": {
      "image/png": "[encoded data removed]",
      "text/plain": [
       "<matplotlib.figure.Figure at 0x7f708d924748>"
      ]
     },
     "metadata": {
      "needs_background": "light"
     },
     "output_type": "display_data"
    }
   ],
   "source": [
    "# plot the scores\n",
    "fig = plt.figure()\n",
    "ax = fig.add_subplot(111)\n",
    "plt.plot(np.arange(len(scores)), scores, label='DDPG')\n",
    "plt.plot(np.arange(len(scores)), avgs, c='r', label='moving avg')\n",
    "plt.ylabel('Score')\n",
    "plt.xlabel('Episode #')\n",
    "plt.legend(loc='upper left');\n",
    "plt.show()"
   ]
  },
  {
   "cell_type": "code",
   "execution_count": 13,
   "metadata": {},
   "outputs": [],
   "source": [
    "env.close()"
   ]
  }
 ],
 "metadata": {
  "kernelspec": {
   "display_name": "Python 3",
   "language": "python",
   "name": "python3"
  },
  "language_info": {
   "codemirror_mode": {
    "name": "ipython",
    "version": 3
   },
   "file_extension": ".py",
   "mimetype": "text/x-python",
   "name": "python",
   "nbconvert_exporter": "python",
   "pygments_lexer": "ipython3",
   "version": "3.6.8"
  }
 },
 "nbformat": 4,
 "nbformat_minor": 2
}
