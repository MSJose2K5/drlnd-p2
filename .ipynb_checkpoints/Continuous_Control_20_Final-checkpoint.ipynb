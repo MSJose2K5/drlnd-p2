{
 "cells": [
  {
   "cell_type": "markdown",
   "metadata": {},
   "source": [
    "# Continuous Control\n",
    "\n",
    "---\n",
    "\n",
    "In this notebook, you will learn how to use the Unity ML-Agents environment for the second project of the [Deep Reinforcement Learning Nanodegree](https://www.udacity.com/course/deep-reinforcement-learning-nanodegree--nd893) program.\n",
    "\n",
    "### 1. Start the Environment\n",
    "\n",
    "We begin by importing the necessary packages.  If the code cell below returns an error, please revisit the project instructions to double-check that you have installed [Unity ML-Agents](https://github.com/Unity-Technologies/ml-agents/blob/master/docs/Installation.md) and [NumPy](http://www.numpy.org/)."
   ]
  },
  {
   "cell_type": "code",
   "execution_count": 1,
   "metadata": {},
   "outputs": [],
   "source": [
    "import matplotlib.pyplot as plt\n",
    "%matplotlib inline\n",
    "\n",
    "import numpy as np\n",
    "import random\n",
    "import time\n",
    "import torch\n",
    "\n",
    "from collections import deque\n",
    "from ddpg_agent import Agent\n",
    "from unityagents import UnityEnvironment"
   ]
  },
  {
   "cell_type": "markdown",
   "metadata": {},
   "source": [
    "Next, we will start the environment!  **_Before running the code cell below_**, change the `file_name` parameter to match the location of the Unity environment that you downloaded.\n",
    "\n",
    "- **Mac**: `\"path/to/Reacher.app\"`\n",
    "- **Windows** (x86): `\"path/to/Reacher_Windows_x86/Reacher.exe\"`\n",
    "- **Windows** (x86_64): `\"path/to/Reacher_Windows_x86_64/Reacher.exe\"`\n",
    "- **Linux** (x86): `\"path/to/Reacher_Linux/Reacher.x86\"`\n",
    "- **Linux** (x86_64): `\"path/to/Reacher_Linux/Reacher.x86_64\"`\n",
    "- **Linux** (x86, headless): `\"path/to/Reacher_Linux_NoVis/Reacher.x86\"`\n",
    "- **Linux** (x86_64, headless): `\"path/to/Reacher_Linux_NoVis/Reacher.x86_64\"`\n",
    "\n",
    "For instance, if you are using a Mac, then you downloaded `Reacher.app`.  If this file is in the same folder as the notebook, then the line below should appear as follows:\n",
    "```\n",
    "env = UnityEnvironment(file_name=\"Reacher.app\")\n",
    "```"
   ]
  },
  {
   "cell_type": "code",
   "execution_count": 2,
   "metadata": {},
   "outputs": [
    {
     "name": "stderr",
     "output_type": "stream",
     "text": [
      "INFO:unityagents:\n",
      "'Academy' started successfully!\n",
      "Unity Academy name: Academy\n",
      "        Number of Brains: 1\n",
      "        Number of External Brains : 1\n",
      "        Lesson number : 0\n",
      "        Reset Parameters :\n",
      "\t\tgoal_speed -> 1.0\n",
      "\t\tgoal_size -> 5.0\n",
      "Unity brain name: ReacherBrain\n",
      "        Number of Visual Observations (per agent): 0\n",
      "        Vector Observation space type: continuous\n",
      "        Vector Observation space size (per agent): 33\n",
      "        Number of stacked Vector Observation: 1\n",
      "        Vector Action space type: continuous\n",
      "        Vector Action space size (per agent): 4\n",
      "        Vector Action descriptions: , , , \n"
     ]
    }
   ],
   "source": [
    "# In Udacity Workspace\n",
    "# select this option to load version 2 (with 20 agents) of the environment\n",
    "# env = UnityEnvironment(file_name='/data/Reacher_Linux_NoVis/Reacher.x86_64')\n",
    "\n",
    "# In local Ubuntu 18.04.2 LTS setup\n",
    "env = UnityEnvironment(file_name='/home/m2keyofz/Downloads/Reacher_Linux_20/Reacher.x86_64')"
   ]
  },
  {
   "cell_type": "markdown",
   "metadata": {},
   "source": [
    "Environments contain **_brains_** which are responsible for deciding the actions of their associated agents. Here we check for the first brain available, and set it as the default brain we will be controlling from Python."
   ]
  },
  {
   "cell_type": "code",
   "execution_count": 3,
   "metadata": {},
   "outputs": [],
   "source": [
    "# get the default brain\n",
    "brain_name = env.brain_names[0]\n",
    "brain = env.brains[brain_name]"
   ]
  },
  {
   "cell_type": "markdown",
   "metadata": {},
   "source": [
    "### 2. Examine the State and Action Spaces\n",
    "\n",
    "In this environment, a double-jointed arm can move to target locations. A reward of `+0.1` is provided for each step that the agent's hand is in the goal location. Thus, the goal of your agent is to maintain its position at the target location for as many time steps as possible.\n",
    "\n",
    "The observation space consists of `33` variables corresponding to position, rotation, velocity, and angular velocities of the arm.  Each action is a vector with four numbers, corresponding to torque applicable to two joints.  Every entry in the action vector must be a number between `-1` and `1`.\n",
    "\n",
    "Run the code cell below to print some information about the environment."
   ]
  },
  {
   "cell_type": "code",
   "execution_count": 4,
   "metadata": {},
   "outputs": [
    {
     "name": "stdout",
     "output_type": "stream",
     "text": [
      "Number of agents: 20\n",
      "Size of each action: 4\n",
      "There are 20 agents. Each observes a state with length: 33\n"
     ]
    }
   ],
   "source": [
    "# reset the environment\n",
    "env_info = env.reset(train_mode=True)[brain_name]\n",
    "\n",
    "# number of agents\n",
    "num_agents = len(env_info.agents)\n",
    "print('Number of agents:', num_agents)\n",
    "\n",
    "# size of each action\n",
    "action_size = brain.vector_action_space_size\n",
    "print('Size of each action:', action_size)\n",
    "\n",
    "# examine the state space \n",
    "states = env_info.vector_observations\n",
    "state_size = states.shape[1]\n",
    "print('There are {} agents. Each observes a state with length: {}'.format(states.shape[0], state_size))\n",
    "# print('The state for the first agent looks like:', states[0])"
   ]
  },
  {
   "cell_type": "markdown",
   "metadata": {},
   "source": [
    "### 3. Take Random Actions in the Environment\n",
    "\n",
    "In the next code cell, you will learn how to use the Python API to control the agent and receive feedback from the environment.\n",
    "\n",
    "Once this cell is executed, you will watch the agent's performance, if it selects an action at random with each time step.  A window should pop up that allows you to observe the agent, as it moves through the environment.  \n",
    "\n",
    "Of course, as part of the project, you'll have to change the code so that the agent is able to use its experience to gradually choose better actions when interacting with the environment!"
   ]
  },
  {
   "cell_type": "code",
   "execution_count": 5,
   "metadata": {},
   "outputs": [],
   "source": [
    "start = time.time()"
   ]
  },
  {
   "cell_type": "code",
   "execution_count": 6,
   "metadata": {},
   "outputs": [
    {
     "name": "stdout",
     "output_type": "stream",
     "text": [
      "Total score (averaged over agents) this episode: 0.11799999736249447\n"
     ]
    }
   ],
   "source": [
    "env_info = env.reset(train_mode=False)[brain_name]     # reset the environment    \n",
    "states = env_info.vector_observations                  # get the current state (for each agent)\n",
    "scores = np.zeros(num_agents)                          # initialize the score (for each agent)\n",
    "while True:\n",
    "    actions = np.random.randn(num_agents, action_size) # select an action (for each agent)\n",
    "    actions = np.clip(actions, -1, 1)                  # all actions between -1 and 1\n",
    "    env_info = env.step(actions)[brain_name]           # send all actions to tne environment\n",
    "    next_states = env_info.vector_observations         # get next state (for each agent)\n",
    "    rewards = env_info.rewards                         # get reward (for each agent)\n",
    "    dones = env_info.local_done                        # see if episode finished\n",
    "    scores += env_info.rewards                         # update the score (for each agent)\n",
    "    states = next_states                               # roll over states to next time step\n",
    "    if np.any(dones):                                  # exit loop if episode finished\n",
    "        break\n",
    "\n",
    "print('Total score (averaged over agents) this episode: {}'.format(np.mean(scores)))"
   ]
  },
  {
   "cell_type": "code",
   "execution_count": 7,
   "metadata": {},
   "outputs": [
    {
     "name": "stdout",
     "output_type": "stream",
     "text": [
      "\n",
      "Elapsed Time: 1.05 mins.\n"
     ]
    }
   ],
   "source": [
    "end = time.time()\n",
    "elapsed = (end - start) / 60.0 # in minutes\n",
    "print(\"\\nElapsed Time: {0:3.2f} mins.\".format(elapsed))"
   ]
  },
  {
   "cell_type": "markdown",
   "metadata": {},
   "source": [
    "### 4. Train agent to solve the environment!\n",
    "\n",
    "Now it's your turn to train your own agent to solve the environment!  When training the environment, set `train_mode=True`, so that the line for resetting the environment looks like the following:\n",
    "```python\n",
    "env_info = env.reset(train_mode=True)[brain_name]\n",
    "```"
   ]
  },
  {
   "cell_type": "code",
   "execution_count": 8,
   "metadata": {},
   "outputs": [],
   "source": [
    "# DDPG function\n",
    "\n",
    "def ddpg(n_episodes=1000, max_t=1000, print_every=1,\n",
    "         actor_path ='weights/actor_ckpt.pth', \n",
    "         critic_path='weights/critic_ckpt.pth'):\n",
    "    \"\"\"Deep Deterministic Policy Gradient (DDPG)\n",
    "    \n",
    "    Params\n",
    "    ======\n",
    "        n_episodes  (int)   : maximum number of training episodes\n",
    "        max_t       (int)   : maximum number of timesteps per episode\n",
    "        print_every (int)   : interval to display results\n",
    "        actor_path  (str)   : file_name to store actor network weights\n",
    "        critic_path (str)   : file_name to store critic network weights\n",
    "\n",
    "    \"\"\"\n",
    "    mean_scores = []                               # list of mean scores from each episode\n",
    "    min_scores  = []                               # list of lowest scores from each episode\n",
    "    max_scores  = []                               # list of highest scores from each episode\n",
    "    moving_avgs = []                               # list of moving averages\n",
    "    best_score  = -np.inf\n",
    "    scores_window = deque(maxlen=100)              # mean scores from most recent 100 episodes\n",
    "    \n",
    "    for i_episode in range(1, n_episodes+1):\n",
    "        env_info = env.reset(train_mode=True)[brain_name]       # reset environment\n",
    "        states = env_info.vector_observations                   # get current state for each agent      \n",
    "        scores = np.zeros(num_agents)                           # initialize score for each agent\n",
    "        agent.reset()\n",
    "        start_time = time.time()\n",
    "        for t in range(max_t):\n",
    "            actions = agent.act(states, add_noise=True)         # select an action\n",
    "            env_info = env.step(actions)[brain_name]            # send actions to environment\n",
    "            next_states = env_info.vector_observations          # get next state\n",
    "            rewards = env_info.rewards                          # get reward\n",
    "            dones = env_info.local_done                         # see if episode has finished\n",
    "            # save experience to replay buffer, perform learning step at defined interval\n",
    "            for state, action, reward, next_state, done in zip(states, actions, rewards, next_states, dones):\n",
    "                agent.step(state, action, reward, next_state, done, t)             \n",
    "            states = next_states\n",
    "            scores += rewards        \n",
    "            if np.any(dones):                                   # exit loop when episode ends\n",
    "                break\n",
    "\n",
    "        duration = time.time() - start_time\n",
    "        min_scores.append(np.min(scores))             # save lowest score for a single agent\n",
    "        max_scores.append(np.max(scores))             # save highest score for a single agent        \n",
    "        mean_scores.append(np.mean(scores))           # save mean score for the episode\n",
    "        scores_window.append(mean_scores[-1])         # save mean score to window\n",
    "        moving_avgs.append(np.mean(scores_window))    # save moving average\n",
    "                \n",
    "        if i_episode % print_every == 0:\n",
    "            print('\\rEpisode {} ({}s)\\tMin: {:.1f}\\tMax: {:.1f}\\tMean: {:.1f}\\tMoving Avg: {:.1f}'.format(\\\n",
    "                  i_episode, round(duration), min_scores[-1], max_scores[-1], mean_scores[-1], moving_avgs[-1]))\n",
    "        \n",
    "        if mean_scores[-1] > best_score:\n",
    "            torch.save(agent.actor_local.state_dict(),  actor_path)\n",
    "            torch.save(agent.critic_local.state_dict(), critic_path)\n",
    "                  \n",
    "        if moving_avgs[-1] >= 30.01 and i_episode >= 100:\n",
    "            print('\\nEnvironment solved in {:d} episodes!\\tAverage Score: {:.2f}'.format(i_episode-100, moving_avgs[-1]))            \n",
    "            torch.save(agent.actor_local.state_dict(),  actor_path)\n",
    "            torch.save(agent.critic_local.state_dict(), critic_path)  \n",
    "            break\n",
    "            \n",
    "    return mean_scores, moving_avgs"
   ]
  },
  {
   "cell_type": "code",
   "execution_count": 9,
   "metadata": {},
   "outputs": [],
   "source": [
    "start = time.time()"
   ]
  },
  {
   "cell_type": "code",
   "execution_count": 10,
   "metadata": {},
   "outputs": [
    {
     "name": "stdout",
     "output_type": "stream",
     "text": [
      "Episode 1 (54s)\tMin: 0.1\tMax: 1.6\tMean: 0.8\tMoving Avg: 0.8\n",
      "Episode 2 (56s)\tMin: 0.8\tMax: 5.2\tMean: 2.2\tMoving Avg: 1.5\n",
      "Episode 3 (56s)\tMin: 1.4\tMax: 4.9\tMean: 3.0\tMoving Avg: 2.0\n",
      "Episode 4 (57s)\tMin: 1.2\tMax: 5.3\tMean: 2.7\tMoving Avg: 2.2\n",
      "Episode 5 (61s)\tMin: 0.9\tMax: 6.1\tMean: 3.0\tMoving Avg: 2.3\n",
      "Episode 6 (58s)\tMin: 0.1\tMax: 4.8\tMean: 2.6\tMoving Avg: 2.4\n",
      "Episode 7 (58s)\tMin: 1.6\tMax: 4.4\tMean: 3.0\tMoving Avg: 2.5\n",
      "Episode 8 (59s)\tMin: 1.5\tMax: 4.9\tMean: 3.4\tMoving Avg: 2.6\n",
      "Episode 9 (60s)\tMin: 2.4\tMax: 8.5\tMean: 4.4\tMoving Avg: 2.8\n",
      "Episode 10 (62s)\tMin: 2.6\tMax: 9.2\tMean: 5.2\tMoving Avg: 3.0\n",
      "Episode 11 (62s)\tMin: 0.8\tMax: 7.2\tMean: 5.1\tMoving Avg: 3.2\n",
      "Episode 12 (64s)\tMin: 3.7\tMax: 9.7\tMean: 6.0\tMoving Avg: 3.4\n",
      "Episode 13 (64s)\tMin: 3.9\tMax: 11.3\tMean: 7.9\tMoving Avg: 3.8\n",
      "Episode 14 (65s)\tMin: 4.8\tMax: 13.9\tMean: 9.2\tMoving Avg: 4.2\n",
      "Episode 15 (67s)\tMin: 4.8\tMax: 14.9\tMean: 9.7\tMoving Avg: 4.5\n",
      "Episode 16 (68s)\tMin: 7.9\tMax: 18.6\tMean: 13.5\tMoving Avg: 5.1\n",
      "Episode 17 (69s)\tMin: 10.2\tMax: 20.4\tMean: 14.9\tMoving Avg: 5.7\n",
      "Episode 18 (70s)\tMin: 12.6\tMax: 20.1\tMean: 16.3\tMoving Avg: 6.3\n",
      "Episode 19 (71s)\tMin: 9.6\tMax: 21.0\tMean: 17.2\tMoving Avg: 6.8\n",
      "Episode 20 (73s)\tMin: 9.5\tMax: 29.9\tMean: 18.9\tMoving Avg: 7.4\n",
      "Episode 21 (74s)\tMin: 13.9\tMax: 28.2\tMean: 21.1\tMoving Avg: 8.1\n",
      "Episode 22 (76s)\tMin: 15.4\tMax: 32.9\tMean: 21.9\tMoving Avg: 8.7\n",
      "Episode 23 (76s)\tMin: 17.8\tMax: 30.2\tMean: 23.5\tMoving Avg: 9.4\n",
      "Episode 24 (78s)\tMin: 19.4\tMax: 29.9\tMean: 24.1\tMoving Avg: 10.0\n",
      "Episode 25 (79s)\tMin: 19.4\tMax: 32.8\tMean: 27.3\tMoving Avg: 10.7\n",
      "Episode 26 (80s)\tMin: 22.9\tMax: 32.6\tMean: 28.4\tMoving Avg: 11.4\n",
      "Episode 27 (82s)\tMin: 24.0\tMax: 31.4\tMean: 27.7\tMoving Avg: 12.0\n",
      "Episode 28 (82s)\tMin: 26.7\tMax: 35.0\tMean: 30.0\tMoving Avg: 12.6\n",
      "Episode 29 (83s)\tMin: 25.0\tMax: 35.8\tMean: 30.9\tMoving Avg: 13.2\n",
      "Episode 30 (93s)\tMin: 25.9\tMax: 36.3\tMean: 31.9\tMoving Avg: 13.9\n",
      "Episode 31 (92s)\tMin: 28.4\tMax: 38.8\tMean: 33.9\tMoving Avg: 14.5\n",
      "Episode 32 (91s)\tMin: 28.9\tMax: 37.7\tMean: 34.2\tMoving Avg: 15.1\n",
      "Episode 33 (97s)\tMin: 27.2\tMax: 39.3\tMean: 34.1\tMoving Avg: 15.7\n",
      "Episode 34 (99s)\tMin: 25.0\tMax: 39.5\tMean: 34.1\tMoving Avg: 16.2\n",
      "Episode 35 (102s)\tMin: 28.5\tMax: 38.0\tMean: 34.2\tMoving Avg: 16.7\n",
      "Episode 36 (105s)\tMin: 29.5\tMax: 39.1\tMean: 35.6\tMoving Avg: 17.3\n",
      "Episode 37 (108s)\tMin: 30.7\tMax: 39.2\tMean: 36.1\tMoving Avg: 17.8\n",
      "Episode 38 (106s)\tMin: 31.8\tMax: 39.5\tMean: 36.7\tMoving Avg: 18.3\n",
      "Episode 39 (109s)\tMin: 33.2\tMax: 39.1\tMean: 36.7\tMoving Avg: 18.8\n",
      "Episode 40 (109s)\tMin: 31.6\tMax: 38.9\tMean: 36.8\tMoving Avg: 19.2\n",
      "Episode 41 (110s)\tMin: 30.6\tMax: 39.2\tMean: 36.5\tMoving Avg: 19.6\n",
      "Episode 42 (110s)\tMin: 31.4\tMax: 39.6\tMean: 38.1\tMoving Avg: 20.1\n",
      "Episode 43 (108s)\tMin: 25.8\tMax: 39.4\tMean: 36.4\tMoving Avg: 20.4\n",
      "Episode 44 (110s)\tMin: 32.9\tMax: 39.6\tMean: 37.8\tMoving Avg: 20.8\n",
      "Episode 45 (115s)\tMin: 33.8\tMax: 39.3\tMean: 38.2\tMoving Avg: 21.2\n",
      "Episode 46 (115s)\tMin: 34.1\tMax: 39.4\tMean: 37.8\tMoving Avg: 21.6\n",
      "Episode 47 (114s)\tMin: 35.7\tMax: 39.0\tMean: 37.9\tMoving Avg: 21.9\n",
      "Episode 48 (117s)\tMin: 33.4\tMax: 39.0\tMean: 37.6\tMoving Avg: 22.3\n",
      "Episode 49 (117s)\tMin: 34.9\tMax: 39.6\tMean: 38.1\tMoving Avg: 22.6\n",
      "Episode 50 (121s)\tMin: 33.9\tMax: 39.6\tMean: 37.9\tMoving Avg: 22.9\n",
      "Episode 51 (120s)\tMin: 34.8\tMax: 39.4\tMean: 38.2\tMoving Avg: 23.2\n",
      "Episode 52 (119s)\tMin: 32.3\tMax: 39.7\tMean: 38.1\tMoving Avg: 23.5\n",
      "Episode 53 (119s)\tMin: 36.5\tMax: 39.5\tMean: 38.4\tMoving Avg: 23.8\n",
      "Episode 54 (118s)\tMin: 35.0\tMax: 39.5\tMean: 38.5\tMoving Avg: 24.0\n",
      "Episode 55 (117s)\tMin: 36.1\tMax: 39.5\tMean: 38.5\tMoving Avg: 24.3\n",
      "Episode 56 (118s)\tMin: 37.2\tMax: 39.5\tMean: 38.9\tMoving Avg: 24.6\n",
      "Episode 57 (116s)\tMin: 38.0\tMax: 39.6\tMean: 39.1\tMoving Avg: 24.8\n",
      "Episode 58 (115s)\tMin: 37.6\tMax: 39.6\tMean: 39.3\tMoving Avg: 25.1\n",
      "Episode 59 (118s)\tMin: 30.5\tMax: 39.6\tMean: 37.9\tMoving Avg: 25.3\n",
      "Episode 60 (118s)\tMin: 38.2\tMax: 39.6\tMean: 39.2\tMoving Avg: 25.5\n",
      "Episode 61 (122s)\tMin: 37.0\tMax: 39.5\tMean: 38.9\tMoving Avg: 25.7\n",
      "Episode 62 (119s)\tMin: 38.4\tMax: 39.6\tMean: 39.3\tMoving Avg: 25.9\n",
      "Episode 63 (117s)\tMin: 38.7\tMax: 39.6\tMean: 39.3\tMoving Avg: 26.2\n",
      "Episode 64 (118s)\tMin: 37.1\tMax: 39.6\tMean: 39.3\tMoving Avg: 26.4\n",
      "Episode 65 (123s)\tMin: 35.4\tMax: 39.6\tMean: 38.9\tMoving Avg: 26.6\n",
      "Episode 66 (120s)\tMin: 37.0\tMax: 39.6\tMean: 39.1\tMoving Avg: 26.7\n",
      "Episode 67 (120s)\tMin: 35.7\tMax: 39.5\tMean: 38.5\tMoving Avg: 26.9\n",
      "Episode 68 (119s)\tMin: 36.4\tMax: 39.6\tMean: 38.9\tMoving Avg: 27.1\n",
      "Episode 69 (117s)\tMin: 37.1\tMax: 39.5\tMean: 38.9\tMoving Avg: 27.3\n",
      "Episode 70 (111s)\tMin: 36.0\tMax: 39.6\tMean: 39.0\tMoving Avg: 27.4\n",
      "Episode 71 (111s)\tMin: 33.9\tMax: 39.6\tMean: 38.7\tMoving Avg: 27.6\n",
      "Episode 72 (111s)\tMin: 35.6\tMax: 39.6\tMean: 38.6\tMoving Avg: 27.8\n",
      "Episode 73 (111s)\tMin: 37.8\tMax: 39.6\tMean: 39.0\tMoving Avg: 27.9\n",
      "Episode 74 (111s)\tMin: 35.1\tMax: 39.6\tMean: 38.3\tMoving Avg: 28.0\n",
      "Episode 75 (113s)\tMin: 32.4\tMax: 39.6\tMean: 37.2\tMoving Avg: 28.2\n",
      "Episode 76 (118s)\tMin: 13.0\tMax: 39.6\tMean: 36.5\tMoving Avg: 28.3\n",
      "Episode 77 (119s)\tMin: 37.0\tMax: 39.6\tMean: 38.8\tMoving Avg: 28.4\n",
      "Episode 78 (119s)\tMin: 18.5\tMax: 39.6\tMean: 37.3\tMoving Avg: 28.5\n",
      "Episode 79 (119s)\tMin: 33.0\tMax: 39.4\tMean: 37.9\tMoving Avg: 28.6\n",
      "Episode 80 (121s)\tMin: 33.5\tMax: 39.6\tMean: 37.5\tMoving Avg: 28.8\n",
      "Episode 81 (120s)\tMin: 32.3\tMax: 39.5\tMean: 36.8\tMoving Avg: 28.9\n",
      "Episode 82 (119s)\tMin: 33.4\tMax: 39.6\tMean: 37.8\tMoving Avg: 29.0\n",
      "Episode 83 (117s)\tMin: 33.9\tMax: 39.6\tMean: 38.2\tMoving Avg: 29.1\n",
      "Episode 84 (119s)\tMin: 37.3\tMax: 39.6\tMean: 39.1\tMoving Avg: 29.2\n",
      "Episode 85 (117s)\tMin: 37.8\tMax: 39.7\tMean: 39.1\tMoving Avg: 29.3\n",
      "Episode 86 (118s)\tMin: 18.0\tMax: 39.3\tMean: 36.3\tMoving Avg: 29.4\n",
      "Episode 87 (114s)\tMin: 37.5\tMax: 39.6\tMean: 38.7\tMoving Avg: 29.5\n",
      "Episode 88 (117s)\tMin: 35.7\tMax: 39.5\tMean: 38.7\tMoving Avg: 29.6\n",
      "Episode 89 (115s)\tMin: 33.5\tMax: 39.6\tMean: 38.0\tMoving Avg: 29.7\n",
      "Episode 90 (119s)\tMin: 36.3\tMax: 39.7\tMean: 38.7\tMoving Avg: 29.8\n",
      "Episode 91 (132s)\tMin: 24.3\tMax: 39.6\tMean: 36.7\tMoving Avg: 29.9\n",
      "Episode 92 (123s)\tMin: 36.9\tMax: 39.6\tMean: 38.7\tMoving Avg: 30.0\n",
      "Episode 93 (122s)\tMin: 35.7\tMax: 39.0\tMean: 37.9\tMoving Avg: 30.1\n",
      "Episode 94 (120s)\tMin: 34.7\tMax: 39.6\tMean: 38.3\tMoving Avg: 30.1\n",
      "Episode 95 (118s)\tMin: 35.4\tMax: 39.6\tMean: 38.4\tMoving Avg: 30.2\n",
      "Episode 96 (117s)\tMin: 36.5\tMax: 39.7\tMean: 38.8\tMoving Avg: 30.3\n",
      "Episode 97 (117s)\tMin: 36.0\tMax: 39.6\tMean: 38.9\tMoving Avg: 30.4\n",
      "Episode 98 (119s)\tMin: 36.2\tMax: 39.6\tMean: 38.6\tMoving Avg: 30.5\n",
      "Episode 99 (120s)\tMin: 35.5\tMax: 39.6\tMean: 38.0\tMoving Avg: 30.6\n",
      "Episode 100 (118s)\tMin: 36.4\tMax: 39.7\tMean: 38.6\tMoving Avg: 30.6\n",
      "\n",
      "Environment solved in 0 episodes!\tAverage Score: 30.64\n"
     ]
    }
   ],
   "source": [
    "# run the training loop\n",
    "agent = Agent(state_size=state_size, action_size=action_size, random_seed=1)\n",
    "scores, avgs = ddpg()"
   ]
  },
  {
   "cell_type": "code",
   "execution_count": 11,
   "metadata": {},
   "outputs": [
    {
     "name": "stdout",
     "output_type": "stream",
     "text": [
      "\n",
      "Elapsed Time: 168.55 mins.\n"
     ]
    }
   ],
   "source": [
    "end = time.time()\n",
    "elapsed = (end - start) / 60.0 # in minutes\n",
    "print(\"\\nElapsed Time: {0:3.2f} mins.\".format(elapsed))"
   ]
  },
  {
   "cell_type": "code",
   "execution_count": 12,
   "metadata": {
    "scrolled": true
   },
   "outputs": [
    {
     "data": {
      "image/png": "[encoded data removed]",
      "text/plain": [
       "<matplotlib.figure.Figure at 0x7f8531ca02e8>"
      ]
     },
     "metadata": {
      "needs_background": "light"
     },
     "output_type": "display_data"
    }
   ],
   "source": [
    "# plot the scores\n",
    "fig = plt.figure()\n",
    "ax = fig.add_subplot(111)\n",
    "plt.plot(np.arange(len(scores)), scores, label='DDPG')\n",
    "plt.plot(np.arange(len(scores)), avgs, c='r', label='moving avg')\n",
    "plt.ylabel('Score')\n",
    "plt.xlabel('Episode #')\n",
    "plt.legend(loc='upper left');\n",
    "plt.show()"
   ]
  },
  {
   "cell_type": "code",
   "execution_count": 15,
   "metadata": {},
   "outputs": [],
   "source": [
    "env.close()"
   ]
  },
  {
   "cell_type": "code",
   "execution_count": null,
   "metadata": {},
   "outputs": [],
   "source": []
  }
 ],
 "metadata": {
  "kernelspec": {
   "display_name": "Python 3",
   "language": "python",
   "name": "python3"
  },
  "language_info": {
   "codemirror_mode": {
    "name": "ipython",
    "version": 3
   },
   "file_extension": ".py",
   "mimetype": "text/x-python",
   "name": "python",
   "nbconvert_exporter": "python",
   "pygments_lexer": "ipython3",
   "version": "3.6.8"
  }
 },
 "nbformat": 4,
 "nbformat_minor": 2
}
